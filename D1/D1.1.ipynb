{
 "cells": [
  {
   "cell_type": "code",
   "execution_count": null,
   "id": "d4e3be3a",
   "metadata": {
    "pycharm": {
     "name": "#%%\n"
    }
   },
   "outputs": [],
   "source": []
  },
  {
   "cell_type": "code",
   "execution_count": 7,
   "id": "c7943016",
   "metadata": {
    "pycharm": {
     "name": "#%%\n"
    }
   },
   "outputs": [
    {
     "name": "stdout",
     "output_type": "stream",
     "text": [
      "Downloading model this will only take a min\n",
      "/usr/bin/xcrun\n",
      "/Users/gregglickert/Desktop/Fear-Lesson-Plans-master/D1\n",
      "Mod files: \"./pyr2pyr.mod\"\n",
      "\n",
      " -> \u001b[32mCompiling\u001b[0m mod_func.cpp\n",
      " => \u001b[32mLINKING\u001b[0m shared library ./libnrnmech.dylib\n",
      "Successfully created x86_64/special\n"
     ]
    },
    {
     "data": {
      "application/vnd.jupyter.widget-view+json": {
       "model_id": "0cfb2b53a57c4cfea242e3d6f979904f",
       "version_major": 2,
       "version_minor": 0
      },
      "text/plain": [
       "VBox(children=(HBox(children=(Button(button_style='primary', description='Reset', icon='history', style=Button…"
      ]
     },
     "metadata": {},
     "output_type": "display_data"
    },
    {
     "data": {
      "application/vnd.jupyter.widget-view+json": {
       "model_id": "ae8d92dcf97d410280cfd88f3b56ea5a",
       "version_major": 2,
       "version_minor": 0
      },
      "text/plain": [
       "Output()"
      ]
     },
     "metadata": {},
     "output_type": "display_data"
    }
   ],
   "source": [
    "#@title Run cell to activate model\n",
    "import os\n",
    "import numpy as np\n",
    "from os.path import normpath, sep, join\n",
    "\n",
    "RunningInCOLAB = 'google.colab' in str(get_ipython())\n",
    "print(\"Downloading model this will only take a min\")\n",
    "if RunningInCOLAB:\n",
    "    !pip install ipywidgets==7.7.1 &> /dev/null\n",
    "    !pip install neuron &> /dev/null\n",
    "    root = 'Fear-Lesson-Plans'\n",
    "    folder = 'D1'\n",
    "    pathlist = normpath(os.getcwd()).split(sep)\n",
    "    if pathlist[-1] != folder:\n",
    "      rootidx = pathlist.index(root) if root in pathlist else -1\n",
    "      if rootidx>0:\n",
    "        os.chdir(join(sep,*pathlist[:rootidx]))\n",
    "      !git clone https://github.com/GregGlickert/Fear-Lesson-Plans.git &> /dev/null \n",
    "      os.chdir(join(root,folder))\n",
    "#print(os.getcwd())\n",
    "os.system('nrnivmodl') # compile modfiles. Return 0 for success, 1 for failure.\n",
    "\n",
    "import matplotlib.pyplot as plt\n",
    "from matplotlib import gridspec\n",
    "from neuron import h\n",
    "import ipywidgets as widgets\n",
    "from ipywidgets import interactive_output,HBox,VBox,Label,Layout\n",
    "from IPython.display import display\n",
    "%matplotlib inline\n",
    "h.load_file('stdrun.hoc')\n",
    "\n",
    "h.dt = 0.1 # time step (resolution) of the simulation in ms\n",
    "h.tstop = 1700 # how long to run the simulation in ms\n",
    "h.v_init= -65 # initial membrane potential in mV\n",
    "\n",
    "soma = [h.Section(name='soma[%d]'% i) for i in range(1)] # makes one soma called soma[0]\n",
    "#print(soma[0].psection())\n",
    "for i in range(1):\n",
    "    soma[i].insert(\"hh\")\n",
    "    soma[i].diam = 30 # micrometers\n",
    "    soma[i].L = 30 # micrometers\n",
    "    soma[i].cm = 1 # membrane capacitance uF/cm2\n",
    "    soma[i].Ra = 25 # ohm-cm\n",
    "    \n",
    "#h.topology()\n",
    "\n",
    "#pyr2pyr0 = h.pyr2pyr(soma[0](0.5))\n",
    "\n",
    "#tone2pyr0 = h.pyr2pyr(soma[0](0.9)) # makes a syn connected to soma\n",
    "\n",
    "stim = h.IClamp(soma[0](0.9))\n",
    "\n",
    "#shock2pyr0 = h.pyr2pyr(soma[0](0.8))\n",
    "\n",
    "\n",
    "t = h.Vector()      # Vectors are used to record data in the simulation\n",
    "Soma_v = h.Vector()\n",
    "#i_nmda = h.Vector()\n",
    "#capoolcon = h.Vector()\n",
    "#W = h.Vector()\n",
    "\n",
    "t.record(h._ref_t)                # derefences and records data\n",
    "Soma_v.record(soma[0](0.5)._ref_v)\n",
    "#i_nmda.record(tone2pyr0._ref_inmda)\n",
    "#capoolcon.record(tone2pyr0._ref_capoolcon)\n",
    "#W.record(tone2pyr0._ref_W)\n",
    "\n",
    "def plot_variables(): # plots stuff\n",
    "    \n",
    "    #fig = plt.figure(figsize=(12,8),tight_layout=True)\n",
    "    #spec = fig.add_gridspec(3, 2)\n",
    "    #ax11 = fig.add_subplot(spec[0,0]); ax12 = fig.add_subplot(spec[0,1])\n",
    "    #ax31 = fig.add_subplot(spec[1,:])\n",
    "    #ax21 = fig.add_subplot(spec[2,0]); ax22 = fig.add_subplot(spec[2,1])\n",
    "    \n",
    "    #gs_kw = dict(width_ratios=[1,1], height_ratios=[2,1,2])\n",
    "    #fig, ax = plt.subplot_mosaic([['upper left', 'upper right'],\n",
    "    #                              ['middle center','middle center'],\n",
    "    #                              ['lower left', 'lower right']],\n",
    "    #                          gridspec_kw=gs_kw, figsize=(12, 8),\n",
    "    #                          constrained_layout=True)\n",
    "\n",
    "    fig = plt.figure(figsize=(15, 5),tight_layout=True) \n",
    "    gs = gridspec.GridSpec(1, 1, width_ratios=[1],height_ratios=[1]) \n",
    "\n",
    "\n",
    "    ax0 = plt.subplot(gs[0,0])\n",
    "    #ax2 = plt.subplot(gs[0,:])\n",
    "\n",
    "\n",
    "    ax0.plot(t, Soma_v)\n",
    "    ax0.legend(['Soma Vm'])\n",
    "    ax0.set_ylabel('Voltage (mV)')\n",
    "    ax0.set_xlabel('Time (ms)')\n",
    "    ax0.set_ylim(-80,50)\n",
    "    ax0.set_xlim(0,1800)\n",
    "    \n",
    "    #ax2.set_ylabel('Inputs')\n",
    "    #ax2.set_xlabel(\"Time (ms)\")\n",
    "    #if tone_freq == 0:\n",
    "    #    tone = np.arange(3000,4000,1)\n",
    "    #else:\n",
    "    #    tone = np.arange(100,1750,1000/tone_freq)\n",
    "    #tone_index = []\n",
    "    #for i in range(len(tone)):\n",
    "    #    tone_index.append(1)\n",
    "    \n",
    "    #ax2.scatter(tone,tone_index,label='Tone')\n",
    "    #if tone_freq == 0:\n",
    "    #    major_ticks = np.arange(3000,4000,1)\n",
    "    #else:\n",
    "    #    major_ticks = np.arange(100, 1750, 1000/tone_freq)\n",
    "    #y_ticks = np.arange(1,3,1)\n",
    "    #ax2.set_xticks(major_ticks)\n",
    "    #ax2.set_yticks(y_ticks)\n",
    "    #ax2.legend()\n",
    "    #n = 4  # Keeps every 4th tick label\n",
    "    #[l.set_visible(False) for (i,l) in enumerate(ax2.xaxis.get_ticklabels()) if i % n != 0]\n",
    "    #ax2.grid()\n",
    "    #ax2.set_xlim(0,1800)\n",
    "    #ax2.set_ylim(0.8,1)\n",
    "    \n",
    "    plt.show()\n",
    "\n",
    "def activemodel(clamp_delay, clamp_dur, clamp_amp):\n",
    "\n",
    "    soma[i].diam = 30\n",
    "\n",
    "    stim.amp = clamp_amp\n",
    "    stim.delay = clamp_delay\n",
    "    stim.dur = clamp_dur\n",
    "    \n",
    "    \n",
    "    \n",
    "    h.run()\n",
    "    plt.close('all')\n",
    "    plot_variables()\n",
    "\n",
    "clamp_delay = 500\n",
    "diam = 30\n",
    "clamp_dur = 500\n",
    "clamp_amp = 0.4\n",
    "\n",
    "\n",
    "w_reset = widgets.Button(description='Reset',icon='history',button_style='primary')\n",
    "w_clamp_delay = widgets.FloatSlider(value=500, min=0, max=1500, step=10,layout=Layout(width='20%', height='15px'))\n",
    "w_clamp_dur = widgets.FloatSlider(value=500, min=0, max=2000, step=10,layout=Layout(width='20%', height='15px'))\n",
    "w_clamp_amp = widgets.FloatSlider(value=0.4, min=0, max=2, step=0.01,layout=Layout(width='20%', height='15px'))\n",
    "\n",
    "\n",
    "def reset_default(*args):\n",
    "    w_clamp_delay.value = clamp_delay\n",
    "    w_clamp_dur.value = clamp_dur\n",
    "    w_clamp_amp.value = clamp_amp\n",
    "    \n",
    "w_reset.on_click(reset_default)\n",
    "\n",
    "labels = ['clamp amp','clamp delay', 'clamp_dur']\n",
    "Labels = [Label(L) for L in labels]\n",
    "\n",
    "ui = VBox([ HBox([w_reset]),\n",
    "           HBox([Labels[0],w_clamp_amp]),\n",
    "           HBox([Labels[1],w_clamp_delay]),\n",
    "           HBox([Labels[2], w_clamp_dur])])\n",
    "out = interactive_output(activemodel, {'clamp_delay': w_clamp_delay, 'clamp_dur': w_clamp_dur, \n",
    "                                       'clamp_amp': w_clamp_amp})\n",
    "\n",
    "display(ui,out)\n",
    "\n",
    "\n",
    "\n"
   ]
  },
  {
   "cell_type": "code",
   "execution_count": null,
   "id": "e88a31e0",
   "metadata": {
    "pycharm": {
     "name": "#%%\n"
    }
   },
   "outputs": [],
   "source": []
  }
 ],
 "metadata": {
  "kernelspec": {
   "display_name": "Python 3 (ipykernel)",
   "language": "python",
   "name": "python3"
  },
  "language_info": {
   "codemirror_mode": {
    "name": "ipython",
    "version": 3
   },
   "file_extension": ".py",
   "mimetype": "text/x-python",
   "name": "python",
   "nbconvert_exporter": "python",
   "pygments_lexer": "ipython3",
   "version": "3.8.16"
  }
 },
 "nbformat": 4,
 "nbformat_minor": 5
}
