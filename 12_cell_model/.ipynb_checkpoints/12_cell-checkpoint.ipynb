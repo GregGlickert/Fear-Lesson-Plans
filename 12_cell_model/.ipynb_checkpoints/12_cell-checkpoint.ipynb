{
 "cells": [
  {
   "cell_type": "code",
   "execution_count": null,
   "metadata": {
    "collapsed": true,
    "pycharm": {
     "name": "#%%\n"
    }
   },
   "outputs": [],
   "source": [
    "import os, sys\n",
    "from io import StringIO\n",
    "RunningInCOLAB = 'google.colab' in str(get_ipython())\n",
    "\n",
    "print(\"Downloading model this will only take a second!\")\n",
    "class Capturing(list):\n",
    "    def __enter__(self):\n",
    "        self._stdout = sys.stdout\n",
    "        sys.stdout = self._stringio = StringIO()\n",
    "        return self\n",
    "    def __exit__(self, *args):\n",
    "        self.extend(self._stringio.getvalue().splitlines())\n",
    "        del self._stringio    # free up some memory\n",
    "        sys.stdout = self._stdout\n",
    "        \n",
    "with Capturing() as output:\n",
    "  if RunningInCOLAB:\n",
    "      print('Downloading packages')\n",
    "      !pip install NEURON==8.0.0\n",
    "      !pip install bmtk==0.0.9\n",
    "\n",
    "  if os.path.basename(os.getcwd())!='12_cell_model':\n",
    "      !git clone https://github.com/GregGlickert/Fear-Lesson-Plans.git\n",
    "      %cd Fear-Lesson-Plans/12_cell_model/biophys_components/mechanisms/\n",
    "      !nrnivmodl modfiles\n",
    "      %cd ../..\n",
    "      %ls\n",
    "      print(\"model was downloaded!\")\n",
    "  else:\n",
    "      print(\"model was already downloaded\")\n",
    "\n",
    "print(\"model was downloaded!\")"
   ]
  },
  {
   "cell_type": "code",
   "execution_count": null,
   "metadata": {},
   "outputs": [],
   "source": []
  },
  {
   "cell_type": "code",
   "execution_count": null,
   "metadata": {},
   "outputs": [],
   "source": []
  }
 ],
 "metadata": {
  "kernelspec": {
   "display_name": "Python 3 (ipykernel)",
   "language": "python",
   "name": "python3"
  },
  "language_info": {
   "codemirror_mode": {
    "name": "ipython",
    "version": 3
   },
   "file_extension": ".py",
   "mimetype": "text/x-python",
   "name": "python",
   "nbconvert_exporter": "python",
   "pygments_lexer": "ipython3",
   "version": "3.7.12"
  }
 },
 "nbformat": 4,
 "nbformat_minor": 1
}
